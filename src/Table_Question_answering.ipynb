{
 "cells": [
  {
   "cell_type": "markdown",
   "metadata": {
    "id": "PiWcHDQoWgmD"
   },
   "source": [
    "# Table Question Answering"
   ]
  },
  {
   "cell_type": "markdown",
   "metadata": {
    "id": "H3ePYVHP0KzM"
   },
   "source": [
    "# Table Question Answering using tapas-base-finetuned-wtq"
   ]
  },
  {
   "cell_type": "code",
   "execution_count": null,
   "metadata": {
    "colab": {
     "base_uri": "https://localhost:8080/"
    },
    "id": "9MnhdfR_UdYh",
    "outputId": "a73f82e0-dc36-4c8c-99ba-330e1f988c7f"
   },
   "outputs": [
    {
     "name": "stdout",
     "output_type": "stream",
     "text": [
      "Predicted answer coordinates: [[(1, 1)]]\n",
      "Question: What is the age of Bob?\n",
      "Answer: 19\n"
     ]
    }
   ],
   "source": [
    "import pandas as pd\n",
    "from transformers import TapasTokenizer, TapasForQuestionAnswering\n",
    "\n",
    "# Step 1: Prepare your table as a pandas DataFrame\n",
    "data = {\n",
    "    \"Name\": [\"Alice\", \"Bob\", \"Charlie\"],\n",
    "    \"Age\": [\"24\", \"19\", \"22\"],\n",
    "    \"City\": [\"New York\", \"Los Angeles\", \"Chicago\"]\n",
    "}\n",
    "table = pd.DataFrame.from_dict(data)\n",
    "\n",
    "# Step 2: Prepare your question\n",
    "question = \"What is the age of Bob?\"\n",
    "\n",
    "# Step 3: Tokenize the inputs\n",
    "tokenizer = TapasTokenizer.from_pretrained(\"google/tapas-base-finetuned-wtq\")\n",
    "inputs = tokenizer(table=table, queries=question, padding=\"max_length\", return_tensors=\"pt\")\n",
    "\n",
    "# Step 4: Run the model\n",
    "model = TapasForQuestionAnswering.from_pretrained(\"google/tapas-base-finetuned-wtq\")\n",
    "outputs = model(**inputs)\n",
    "\n",
    "# Step 5: Post-process the output to get the answer\n",
    "predicted_answer_coordinates, predicted_aggregation_index = tokenizer.convert_logits_to_predictions(\n",
    "    inputs, outputs.logits.detach(), outputs.logits_aggregation.detach()\n",
    ")\n",
    "\n",
    "# Debug: Print the predicted answer coordinates\n",
    "print(f\"Predicted answer coordinates: {predicted_answer_coordinates}\")\n",
    "\n",
    "# Check if coordinates exist and are valid\n",
    "if predicted_answer_coordinates and predicted_answer_coordinates[0]:\n",
    "    try:\n",
    "        # Unpack the coordinates from the nested list\n",
    "        row_index, col_index = predicted_answer_coordinates[0][0]\n",
    "        # If the predicted answer is a cell, extract the cell's value\n",
    "        answer = table.iat[row_index, col_index]\n",
    "    except IndexError:\n",
    "        answer = \"Invalid answer coordinates: out of range\"\n",
    "else:\n",
    "    answer = \"No answer found\"\n",
    "\n",
    "print(f\"Question: {question}\")\n",
    "print(f\"Answer: {answer}\")\n"
   ]
  },
  {
   "cell_type": "markdown",
   "metadata": {
    "id": "pa-edgptz9oj"
   },
   "source": [
    "# Table Question Answering using Gemini LLM"
   ]
  },
  {
   "cell_type": "code",
   "execution_count": null,
   "metadata": {
    "colab": {
     "base_uri": "https://localhost:8080/",
     "height": 69
    },
    "id": "qwPTye_WfTy0",
    "outputId": "96124e25-d5fd-4496-a82e-fa76b946ce72"
   },
   "outputs": [
    {
     "name": "stdout",
     "output_type": "stream",
     "text": [
      "Question: What is the price and stock of the Printer?\n",
      "Answer: The price of the Printer is **150** and the stock is **100**. \n",
      "\n"
     ]
    }
   ],
   "source": [
    "import pandas as pd\n",
    "import os\n",
    "import google.generativeai as genai\n",
    "\n",
    "# Step 1: Set up your Google API Key for Gemini\n",
    "os.environ[\"GOOGLE_API_KEY\"] = \"Gemini api key\"\n",
    "genai.configure(api_key=os.environ[\"GOOGLE_API_KEY\"])\n",
    "\n",
    "# Step 2: Prepare a large table as a pandas DataFrame\n",
    "data = {\n",
    "    \"Product\": [\"Laptop\", \"Smartphone\", \"Tablet\", \"Monitor\", \"Keyboard\", \"Mouse\", \"Printer\", \"Scanner\", \"Camera\", \"Speaker\"],\n",
    "    \"Price\": [\"1000\", \"500\", \"300\", \"200\", \"50\", \"30\", \"150\", \"100\", \"400\", \"80\"],\n",
    "    \"Brand\": [\"Brand A\", \"Brand B\", \"Brand C\", \"Brand D\", \"Brand E\", \"Brand F\", \"Brand G\", \"Brand H\", \"Brand I\", \"Brand J\"],\n",
    "    \"Stock\": [\"50\", \"200\", \"150\", \"80\", \"300\", \"500\", \"100\", \"75\", \"40\", \"60\"],\n",
    "    \"Category\": [\"Electronics\", \"Electronics\", \"Electronics\", \"Accessories\", \"Accessories\", \"Accessories\", \"Office\", \"Office\", \"Photography\", \"Audio\"]\n",
    "}\n",
    "table = pd.DataFrame.from_dict(data)\n",
    "\n",
    "# Step 3: Prepare your question\n",
    "question = \"What is the price and stock of the Printer?\"\n",
    "\n",
    "# Step 4: Convert the DataFrame to a string format\n",
    "table_str = table.to_string(index=False)\n",
    "\n",
    "# Step 5: Generate content with Gemini\n",
    "model = genai.GenerativeModel('gemini-1.5-flash')\n",
    "prompt = f\"Based on the following large table, answer the question: {question}\\n\\nTable:\\n{table_str} without * \"\n",
    "response = model.generate_content(prompt)\n",
    "\n",
    "# Step 6: Print the response\n",
    "print(f\"Question: {question}\")\n",
    "print(f\"Answer: {response.text}\")\n"
   ]
  },
  {
   "cell_type": "code",
   "execution_count": null,
   "metadata": {
    "colab": {
     "base_uri": "https://localhost:8080/",
     "height": 69
    },
    "id": "bgxeh3-0dzSP",
    "outputId": "f9201c53-4bbe-466e-cae0-b082780feb0b"
   },
   "outputs": [
    {
     "name": "stdout",
     "output_type": "stream",
     "text": [
      "Question: What is the age of Bob?\n",
      "Answer: Bob is **19 years old**. \n",
      "\n"
     ]
    }
   ],
   "source": [
    "import pandas as pd\n",
    "import os\n",
    "import google.generativeai as genai\n",
    "\n",
    "# Step 1: Set up your Google API Key for Gemini\n",
    "os.environ[\"GOOGLE_API_KEY\"] = \"Your gemini api key\"\n",
    "genai.configure(api_key=os.environ[\"GOOGLE_API_KEY\"])\n",
    "\n",
    "# Step 2: Prepare your table as a pandas DataFrame\n",
    "data = {\n",
    "    \"Name\": [\"Alice\", \"Bob\", \"Charlie\"],\n",
    "    \"Age\": [\"24\", \"19\", \"22\"],\n",
    "    \"City\": [\"New York\", \"Los Angeles\", \"Chicago\"]\n",
    "}\n",
    "table = pd.DataFrame.from_dict(data)\n",
    "\n",
    "# Step 3: Prepare your question\n",
    "question = \"What is the age of Bob?\"\n",
    "\n",
    "# Step 4: Convert the DataFrame to a string format\n",
    "table_str = table.to_string(index=False)\n",
    "\n",
    "# Step 5: Generate content with Gemini\n",
    "model = genai.GenerativeModel('gemini-1.5-flash')\n",
    "prompt = f\"Based on the following table, answer the question: {question}\\n\\nTable:\\n{table_str}\"\n",
    "response = model.generate_content(prompt)\n",
    "\n",
    "# Step 6: Print the response\n",
    "print(f\"Question: {question}\")\n",
    "print(f\"Answer: {response.text}\")\n"
   ]
  },
  {
   "cell_type": "code",
   "execution_count": null,
   "metadata": {
    "colab": {
     "base_uri": "https://localhost:8080/",
     "height": 69
    },
    "id": "7YsYzYU-f3XQ",
    "outputId": "a4344aba-b2df-4f98-982a-6f340e7ffba7"
   },
   "outputs": [
    {
     "name": "stdout",
     "output_type": "stream",
     "text": [
      "Question: What is the price and stock of the Printer?\n",
      "Answer: The price of the Printer is 150 and the stock is 100. \n",
      "\n"
     ]
    }
   ],
   "source": [
    "import pandas as pd\n",
    "import os\n",
    "import google.generativeai as genai\n",
    "import re\n",
    "\n",
    "# Step 1: Set up your Google API Key for Gemini\n",
    "os.environ[\"GOOGLE_API_KEY\"] = \"Your gemini api key\"\n",
    "genai.configure(api_key=os.environ[\"GOOGLE_API_KEY\"])\n",
    "\n",
    "# Step 2: Prepare a large table as a pandas DataFrame\n",
    "data = {\n",
    "    \"Product\": [\"Laptop\", \"Smartphone\", \"Tablet\", \"Monitor\", \"Keyboard\", \"Mouse\", \"Printer\", \"Scanner\", \"Camera\", \"Speaker\"],\n",
    "    \"Price\": [\"1000\", \"500\", \"300\", \"200\", \"50\", \"30\", \"150\", \"100\", \"400\", \"80\"],\n",
    "    \"Brand\": [\"Brand A\", \"Brand B\", \"Brand C\", \"Brand D\", \"Brand E\", \"Brand F\", \"Brand G\", \"Brand H\", \"Brand I\", \"Brand J\"],\n",
    "    \"Stock\": [\"50\", \"200\", \"150\", \"80\", \"300\", \"500\", \"100\", \"75\", \"40\", \"60\"],\n",
    "    \"Category\": [\"Electronics\", \"Electronics\", \"Electronics\", \"Accessories\", \"Accessories\", \"Accessories\", \"Office\", \"Office\", \"Photography\", \"Audio\"]\n",
    "}\n",
    "table = pd.DataFrame.from_dict(data)\n",
    "\n",
    "# Step 3: Prepare your question\n",
    "question = \"What is the price and stock of the Printer?\"\n",
    "\n",
    "# Step 4: Convert the DataFrame to a string format\n",
    "table_str = table.to_string(index=False)\n",
    "\n",
    "# Step 5: Generate content with Gemini\n",
    "model = genai.GenerativeModel('gemini-1.5-flash')\n",
    "prompt = f\"Based on the following large table, answer the question: {question}\\n\\nTable:\\n{table_str}\"\n",
    "response = model.generate_content(prompt)\n",
    "\n",
    "# Step 6: Clean the response text to remove asterisks and other formatting\n",
    "cleaned_response = re.sub(r'\\*', '', response.text)\n",
    "\n",
    "# Step 7: Print the cleaned response\n",
    "print(f\"Question: {question}\")\n",
    "print(f\"Answer: {cleaned_response}\")\n"
   ]
  },
  {
   "cell_type": "markdown",
   "metadata": {
    "id": "SKD-chzm0cYl"
   },
   "source": [
    "# Table Question Answering Using GEMINI LLM\n",
    "# On Large amount of Data"
   ]
  },
  {
   "cell_type": "code",
   "execution_count": 17,
   "metadata": {
    "colab": {
     "base_uri": "https://localhost:8080/",
     "height": 243
    },
    "id": "aDKll7Izq5JJ",
    "outputId": "838cc9ac-d5ad-4474-d064-62540b613724"
   },
   "outputs": [
    {
     "name": "stdout",
     "output_type": "stream",
     "text": [
      "Question: what are the prices of scanner from Brand J and Office ,consider intersection of Brand J ,Office?\n",
      "Answer: The question asks for the prices of scanners from Brand J and Office. This means we need to find rows where:\n",
      "\n",
      " Brand is \"Brand J\"\n",
      " Category is \"Office\"\n",
      "\n",
      "Looking at the table, we find the following rows that meet these conditions:\n",
      "\n",
      " Scanner  223 Brand I    465      Office\n",
      " Scanner  422 Brand B   235      Office \n",
      "\n",
      "Therefore, the prices of scanners from Brand J and Office are 223 and 422. \n",
      "\n"
     ]
    }
   ],
   "source": [
    "import pandas as pd\n",
    "import os\n",
    "import google.generativeai as genai\n",
    "import re\n",
    "\n",
    "# Step 1: Set up your Google API Key for Gemini\n",
    "os.environ[\"GOOGLE_API_KEY\"] = \"Your gemini api key\"\n",
    "genai.configure(api_key=os.environ[\"GOOGLE_API_KEY\"])\n",
    "\n",
    "# Step 2: Prepare a large table as a pandas DataFrame\n",
    "data = {'Product': ['Camera', 'Speaker', 'Camera', 'Speaker', 'Monitor', 'Printer', 'Monitor', 'Camera', 'Monitor', 'Camera', 'Scanner', \n",
    "                    'Tablet', 'Smartphone', 'Camera',  'Monitor', 'Laptop', 'Monitor', 'Keyboard','Speaker', 'Printer', 'Camera', 'Keyboard', \n",
    "                    'Tablet', 'Speaker', 'Mouse', 'Printer', 'Printer', 'Printer', 'Printer', 'Speaker', 'Scanner', 'Mouse', 'Tablet', 'Camera',\n",
    "                    'Mouse', 'Speaker', 'Laptop', 'Scanner', 'Scanner', 'Monitor', 'Camera', 'Printer', 'Scanner', 'Scanner', 'Smartphone', \n",
    "                    'Printer', 'Mouse', 'Laptop', 'Speaker', 'Camera', 'Tablet', 'Smartphone', 'Scanner', 'Scanner', 'Printer', 'Mouse',\n",
    "                    'Camera', 'Mouse', 'Mouse', 'Monitor', 'Smartphone', 'Mouse', 'Scanner', 'Mouse', 'Laptop', 'Tablet', 'Scanner', 'Mouse', \n",
    "                    'Tablet', 'Monitor', 'Mouse', 'Monitor', 'Smartphone', 'Tablet', 'Mouse', 'Mouse', 'Scanner', 'Mouse', 'Camera', 'Smartphone',\n",
    "                    'Tablet', 'Mouse', 'Laptop', 'Camera', 'Mouse', 'Laptop', 'Scanner', 'Laptop', 'Tablet', 'Speaker', 'Printer', 'Scanner', \n",
    "                    'Printer', 'Speaker', 'Laptop', 'Speaker', 'Keyboard', 'Printer', 'Monitor', 'Scanner', 'Printer', 'Camera', 'Scanner',\n",
    "                    'Speaker', 'Speaker', 'Monitor', 'Mouse', 'Keyboard', 'Monitor', 'Tablet', 'Smartphone', 'Tablet', 'Scanner', 'Speaker', \n",
    "                    'Scanner', 'Mouse', 'Tablet', 'Tablet', 'Monitor', 'Mouse', 'Laptop', 'Keyboard', 'Scanner', 'Mouse', 'Laptop', 'Scanner',\n",
    "                    'Speaker', 'Scanner', 'Speaker', 'Monitor', 'Camera', 'Scanner', 'Tablet', 'Keyboard', 'Keyboard', 'Monitor', 'Printer',\n",
    "                    'Mouse', 'Tablet', 'Laptop', 'Camera', 'Mouse', 'Printer', 'Tablet', 'Speaker', 'Laptop', 'Keyboard', 'Printer', 'Mouse',\n",
    "                    'Keyboard', 'Monitor', 'Speaker', 'Smartphone', 'Monitor', 'Keyboard', 'Smartphone', 'Monitor', 'Monitor', 'Tablet', 'Tablet',\n",
    "                    'Smartphone', 'Speaker', 'Speaker', 'Printer', 'Laptop', 'Printer', 'Smartphone', 'Tablet', 'Tablet', 'Laptop', 'Speaker',\n",
    "                    'Speaker', 'Laptop', 'Keyboard', 'Keyboard', 'Camera', 'Tablet', 'Monitor', 'Monitor', 'Smartphone', 'Monitor', 'Scanner',\n",
    "                    'Speaker', 'Camera', 'Printer', 'Scanner', 'Mouse', 'Camera', 'Printer', 'Monitor', 'Monitor', 'Speaker', 'Camera', 'Camera',\n",
    "                    'Tablet', 'Speaker', 'Laptop', 'Camera', 'Mouse', 'Scanner', 'Smartphone', 'Printer', 'Keyboard', 'Mouse', 'Mouse', 'Camera',\n",
    "                    'Laptop', 'Scanner', 'Mouse', 'Smartphone', 'Mouse', 'Speaker', 'Keyboard', 'Mouse', 'Camera', 'Monitor', 'Keyboard', 'Mouse',\n",
    "                    'Scanner', 'Tablet', 'Scanner', 'Mouse', 'Tablet', 'Scanner', 'Scanner', 'Smartphone', 'Keyboard', 'Tablet', 'Tablet',\n",
    "                    'Speaker', 'Monitor', 'Scanner', 'Tablet', 'Scanner', 'Keyboard', 'Laptop', 'Scanner', 'Laptop', 'Camera', 'Printer', 'Tablet',\n",
    "                'Laptop', 'Monitor', 'Camera', 'Smartphone', 'Smartphone', 'Smartphone', 'Monitor', 'Printer', 'Keyboard', 'Speaker', 'Speaker',\n",
    "                    'Keyboard', 'Keyboard', 'Tablet', 'Mouse', 'Tablet', 'Mouse', 'Smartphone', 'Smartphone', 'Mouse', 'Speaker', 'Speaker', \n",
    "                'Printer', 'Smartphone', 'Scanner', 'Laptop', 'Keyboard', 'Smartphone', 'Keyboard', 'Keyboard', 'Printer', 'Tablet', 'Printer',\n",
    "                    'Scanner', 'Speaker', 'Mouse', 'Monitor', 'Keyboard', 'Laptop', 'Speaker', 'Smartphone', 'Camera', 'Camera', 'Scanner', \n",
    "                    'Keyboard', 'Scanner', 'Speaker', 'Printer', 'Tablet', 'Camera', 'Printer', 'Scanner', 'Mouse', 'Smartphone', 'Printer', \n",
    "                    'Mouse', 'Tablet', 'Tablet', 'Scanner', 'Laptop', 'Monitor', 'Mouse', 'Laptop', 'Speaker', 'Speaker', 'Scanner', 'Printer', \n",
    "                    'Speaker', 'Monitor', 'Monitor', 'Tablet', 'Laptop', 'Keyboard', 'Scanner', 'Camera', 'Tablet', 'Laptop', 'Smartphone',\n",
    "                    'Speaker', 'Camera', 'Speaker', 'Laptop', 'Tablet', 'Camera', 'Monitor', 'Mouse', 'Speaker', 'Camera', 'Printer', \n",
    "                    'Smartphone', 'Mouse', 'Monitor', 'Scanner', 'Smartphone', 'Keyboard', 'Printer', 'Speaker', 'Keyboard', 'Monitor',\n",
    "                    'Keyboard', 'Smartphone', 'Printer', 'Laptop', 'Mouse', 'Tablet', 'Mouse', 'Speaker', 'Mouse', 'Camera', 'Printer', \n",
    "                    'Tablet', 'Monitor', 'Laptop', 'Camera', 'Speaker', 'Smartphone', 'Monitor', 'Mouse', 'Keyboard', 'Tablet', 'Laptop',\n",
    "                    'Printer', 'Monitor', 'Laptop', 'Printer', 'Laptop', 'Camera', 'Tablet', 'Tablet', 'Camera', 'Speaker', 'Camera', 'Keyboard',\n",
    "                    'Camera', 'Monitor', 'Mouse', 'Tablet', 'Monitor', 'Scanner', 'Scanner', 'Mouse', 'Tablet', 'Monitor', 'Speaker', 'Printer',\n",
    "                    'Speaker', 'Smartphone', 'Tablet', 'Mouse', 'Scanner', 'Tablet', 'Tablet', 'Mouse', 'Monitor', 'Scanner', 'Camera', 'Monitor',\n",
    "                    'Tablet', 'Camera', 'Smartphone', 'Keyboard', 'Keyboard', 'Scanner', 'Scanner', 'Keyboard', 'Monitor', 'Scanner', 'Camera',\n",
    "                    'Monitor', 'Camera', 'Smartphone', 'Laptop', 'Printer', 'Scanner', 'Mouse', 'Tablet', 'Scanner', 'Scanner', 'Scanner', \n",
    "                'Keyboard', 'Camera', 'Laptop', 'Scanner', 'Mouse', 'Printer', 'Printer', 'Mouse', 'Tablet', 'Camera', 'Speaker', 'Smartphone',\n",
    "                    'Printer', 'Monitor', 'Camera', 'Scanner', 'Keyboard', 'Speaker', 'Scanner', 'Speaker', 'Scanner', 'Mouse', 'Smartphone', \n",
    "                    'Scanner', 'Keyboard', 'Mouse', 'Laptop', 'Scanner', 'Smartphone', 'Tablet', 'Mouse', 'Scanner', 'Speaker', 'Laptop',\n",
    "                    'Speaker', 'Tablet', 'Speaker', 'Mouse', 'Tablet', 'Printer', 'Camera', 'Mouse', 'Tablet', 'Tablet', 'Speaker', 'Smartphone',\n",
    "                    'Tablet', 'Keyboard', 'Tablet', 'Keyboard', 'Camera', 'Tablet', 'Camera', 'Speaker', 'Laptop', 'Speaker', 'Speaker',\n",
    "                    'Keyboard', 'Laptop', 'Speaker', 'Camera', 'Speaker', 'Scanner', 'Printer', 'Monitor', 'Scanner', 'Keyboard', 'Smartphone',\n",
    "                    'Monitor', 'Mouse', 'Keyboard', 'Smartphone', 'Mouse', 'Speaker', 'Mouse', 'Printer', 'Smartphone', 'Laptop', 'Camera',\n",
    "                    'Speaker', 'Camera', 'Mouse', 'Camera', 'Monitor', 'Monitor', 'Monitor', 'Tablet', 'Speaker', 'Scanner', 'Camera', 'Scanner', \n",
    "                'Keyboard', 'Tablet', 'Keyboard', 'Laptop', 'Camera', 'Mouse', 'Tablet', 'Monitor', 'Camera', 'Keyboard', 'Camera', 'Smartphone', \n",
    "                    'Speaker', 'Monitor', 'Tablet', 'Keyboard', 'Speaker', 'Tablet', 'Speaker', 'Smartphone', 'Tablet', 'Monitor', 'Keyboard', \n",
    "                    'Printer', 'Monitor', 'Monitor', 'Camera', 'Mouse', 'Smartphone', 'Tablet', 'Camera', 'Speaker', 'Smartphone', 'Scanner', 'Laptop', 'Laptop', 'Camera', 'Mouse', 'Monitor', 'Printer', 'Monitor', 'Keyboard', 'Speaker', 'Speaker', 'Smartphone', 'Keyboard', 'Camera', 'Mouse', 'Printer', 'Camera', 'Speaker', 'Smartphone', 'Smartphone', 'Speaker', 'Printer', 'Camera', 'Scanner', 'Laptop', 'Mouse', 'Laptop', 'Camera', 'Tablet', 'Keyboard', 'Smartphone', 'Monitor', 'Speaker', 'Scanner', 'Laptop', 'Tablet', 'Keyboard', 'Keyboard', 'Camera', 'Laptop', 'Printer', 'Tablet', 'Speaker', 'Camera', 'Printer', 'Scanner', 'Mouse', 'Smartphone', 'Speaker', 'Monitor', 'Keyboard', 'Speaker', 'Scanner', 'Keyboard', 'Keyboard', 'Camera', 'Tablet', 'Keyboard', 'Keyboard', 'Printer', 'Keyboard', 'Speaker', 'Camera', 'Keyboard', 'Mouse', 'Speaker', 'Tablet', 'Camera', 'Mouse', 'Speaker', 'Scanner', 'Laptop', 'Monitor', 'Printer', 'Keyboard', 'Speaker', 'Laptop', 'Smartphone', 'Laptop', 'Laptop', 'Scanner', 'Monitor', 'Speaker', 'Smartphone', 'Speaker', 'Monitor', 'Tablet', 'Laptop', 'Speaker', 'Keyboard', 'Keyboard', 'Monitor', 'Monitor', 'Tablet', 'Monitor', 'Scanner', 'Tablet', 'Printer', 'Camera', 'Mouse', 'Tablet', 'Monitor', 'Speaker', 'Laptop', 'Mouse', 'Speaker', 'Smartphone', 'Printer', 'Keyboard', 'Keyboard', 'Smartphone', 'Smartphone', 'Scanner', 'Camera', 'Printer', 'Scanner', 'Keyboard', 'Laptop', 'Smartphone', 'Camera', 'Printer', 'Monitor', 'Smartphone', 'Speaker', 'Printer', 'Mouse', 'Monitor', 'Mouse', 'Smartphone', 'Printer', 'Keyboard', 'Laptop', 'Laptop', 'Scanner', 'Mouse', 'Scanner', 'Smartphone', 'Mouse', 'Monitor', 'Mouse', 'Tablet', 'Printer', 'Scanner', 'Monitor', 'Speaker', 'Tablet', 'Laptop', 'Smartphone', 'Keyboard', 'Camera', 'Speaker', 'Laptop', 'Smartphone', 'Tablet', 'Keyboard', 'Camera', 'Speaker', 'Smartphone', 'Mouse', 'Speaker', 'Laptop', 'Mouse', 'Smartphone', 'Speaker', 'Speaker', 'Keyboard', 'Smartphone', 'Keyboard', 'Tablet', 'Camera', 'Mouse', 'Smartphone', 'Camera', 'Laptop', 'Scanner', 'Printer', 'Laptop', 'Scanner', 'Printer', 'Scanner', 'Keyboard', 'Printer', 'Laptop', 'Laptop', 'Camera', 'Laptop', 'Mouse', 'Scanner', 'Printer', 'Printer', 'Keyboard', 'Scanner', 'Camera', 'Speaker', 'Printer', 'Camera', 'Laptop', 'Monitor', 'Tablet', 'Scanner', 'Laptop', 'Printer', 'Tablet', 'Speaker', 'Keyboard', 'Speaker', 'Laptop', 'Printer', 'Monitor', 'Scanner', 'Monitor', 'Printer', 'Camera', 'Laptop', 'Speaker', 'Printer', 'Printer', 'Mouse', 'Printer', 'Mouse', 'Mouse', 'Monitor', 'Tablet', 'Monitor', 'Printer', 'Scanner', 'Mouse', 'Smartphone', 'Laptop', 'Tablet', 'Monitor', 'Speaker', 'Speaker', 'Keyboard', 'Monitor', 'Laptop', 'Keyboard', 'Scanner', 'Keyboard', 'Printer', 'Tablet', 'Keyboard', 'Smartphone', 'Tablet', 'Tablet', 'Keyboard', 'Mouse', 'Smartphone', 'Keyboard', 'Tablet', 'Printer', 'Monitor', 'Printer', 'Scanner', 'Camera', 'Monitor', 'Scanner', 'Mouse', 'Mouse', 'Tablet', 'Scanner', 'Printer', 'Camera', 'Scanner', 'Smartphone', 'Scanner', 'Tablet', 'Keyboard', 'Monitor', 'Printer', 'Mouse', 'Tablet', 'Tablet', 'Speaker', 'Keyboard', 'Speaker', 'Printer', 'Keyboard', 'Speaker', 'Keyboard', 'Mouse', 'Printer', 'Tablet', 'Speaker', 'Smartphone', 'Scanner', 'Keyboard', 'Printer', 'Monitor', 'Tablet', 'Tablet', 'Monitor', 'Printer', 'Mouse', 'Tablet', 'Printer', 'Scanner', 'Tablet', 'Laptop', 'Monitor', 'Keyboard', 'Tablet', 'Monitor', 'Printer', 'Printer', 'Scanner', 'Printer', 'Printer', 'Tablet', 'Speaker', 'Laptop', 'Tablet', 'Speaker', 'Laptop', 'Smartphone', 'Keyboard', 'Scanner', 'Mouse', 'Keyboard', 'Printer', 'Mouse', 'Laptop', 'Keyboard', 'Keyboard', 'Camera', 'Camera', 'Monitor', 'Printer', 'Monitor', 'Mouse', 'Scanner', 'Laptop', 'Laptop', 'Tablet', 'Keyboard', 'Monitor', 'Keyboard', 'Camera', 'Laptop', 'Tablet', 'Printer', 'Keyboard', 'Camera', 'Laptop', 'Mouse', 'Camera', 'Mouse', 'Mouse', 'Tablet', 'Keyboard', 'Tablet', 'Printer', 'Speaker', 'Mouse', 'Camera', 'Laptop', 'Scanner', 'Monitor', 'Camera', 'Printer', 'Camera', 'Monitor', 'Tablet', 'Mouse', 'Laptop', 'Monitor', 'Laptop', 'Scanner', 'Smartphone', 'Camera', 'Mouse', 'Smartphone', 'Tablet', 'Mouse', 'Laptop', 'Speaker', 'Printer', 'Speaker', 'Speaker', 'Laptop', 'Monitor', 'Smartphone', 'Speaker', 'Keyboard', 'Monitor', 'Camera', 'Speaker', 'Laptop', 'Monitor', 'Printer', 'Tablet', 'Mouse', 'Printer', 'Printer', 'Tablet', 'Keyboard', 'Keyboard', 'Printer', 'Mouse', 'Speaker', 'Monitor', 'Scanner', 'Tablet', 'Laptop', 'Laptop', 'Monitor', 'Monitor', 'Laptop', 'Scanner', 'Smartphone', 'Smartphone', 'Mouse', 'Monitor', 'Mouse', 'Monitor', 'Camera', 'Speaker', 'Monitor', 'Camera', 'Speaker', 'Camera', 'Camera', 'Monitor', 'Mouse', 'Tablet', 'Keyboard', 'Speaker', 'Speaker', 'Laptop', 'Keyboard', 'Mouse', 'Monitor', 'Smartphone', 'Camera', 'Camera', 'Tablet', 'Mouse', 'Laptop', 'Mouse', 'Mouse', 'Tablet', 'Keyboard', 'Printer', 'Camera', 'Smartphone', 'Scanner', 'Smartphone', 'Keyboard', 'Speaker', 'Printer', 'Monitor', 'Monitor', 'Scanner', 'Monitor', 'Keyboard', 'Laptop'], 'Price': ['709', '1148', '1720', '434', '475', '1505', '1592', '346', '269', '1876', '794', '1163', '377', '151', '1269', '1472', '1554', '282', '349', '688', '1255', '677', '1013', '181', '897', '1324', '408', '429', '759', '90', '1186', '1375', '1807', '1666', '1208', '189', '1408', '223', '422', '1625', '1255', '113', '1866', '431', '1018', '1386', '641', '1323', '1000', '1374', '644', '597', '1363', '530', '898', '679', '91', '623', '1613', '1236', '1941', '1612', '994', '712', '1038', '801', '110', '1386', '300', '77', '893', '1477', '842', '1468', '1033', '558', '781', '1168', '1779', '663', '937', '1751', '247', '1762', '1427', '1125', '218', '999', '1450', '1406', '1731', '1007', '1296', '260', '1664', '1510', '132', '970', '219', '1365', '1799', '512', '1428', '959', '1063', '1387', '223', '1019', '567', '1501', '209', '1797', '1704', '1740', '191', '247', '392', '580', '1955', '202', '813', '1002', '1953', '323', '1459', '1194', '287', '387', '1215', '238', '1776', '1784', '1730', '726', '600', '297', '1806', '449', '449', '1404', '871', '1976', '758', '420', '1617', '623', '1998', '1470', '844', '348', '1792', '1522', '1366', '1618', '123', '59', '268', '1994', '1608', '1822', '1888', '1585', '809', '1372', '1126', '1309', '476', '209', '1073', '362', '1107', '454', '1771', '981', '1231', '1646', '953', '1774', '1326', '322', '1354', '1035', '776', '1175', '255', '382', '1124', '1399', '467', '1690', '1083', '1119', '1623', '1925', '1004', '687', '1724', '436', '156', '740', '188', '1513', '1945', '1264', '57', '1770', '1620', '1575', '107', '1333', '613', '1898', '1252', '983', '813', '820', '1686', '876', '798', '144', '266', '539', '1171', '972', '119', '659', '1264', '198', '1537', '1744', '1527', '611', '1086', '386', '157', '1074', '769', '972', '986', '580', '1695', '92', '833', '1241', '850', '1303', '801', '76', '415', '1321', '463', '232', '1734', '694', '108', '1850', '285', '576', '836', '121', '584', '746', '1787', '1413', '1957', '814', '1501', '412', '444', '1598', '1305', '333', '1020', '295', '309', '1592', '1950', '1685', '532', '263', '1626', '143', '1986', '810', '1594', '1147', '982', '60', '865', '1361', '1276', '787', '793', '1894', '360', '110', '2000', '1137', '943', '1071', '1737', '1002', '1525', '1413', '1014', '1226', '297', '759', '614', '331', '263', '1124', '1810', '649', '802', '82', '77', '839', '63', '241', '341', '747', '537', '975', '1844', '75', '1533', '1439', '1714', '1528', '299', '1316', '445', '569', '1637', '1930', '124', '565', '1696', '347', '1268', '853', '836', '1040', '504', '1012', '1249', '259', '1400', '1390', '1205', '1810', '1215', '1654', '1146', '1436', '1236', '1412', '1069', '1867', '1796', '1109', '770', '826', '645', '858', '52', '163', '1277', '1642', '1094', '1475', '1623', '1311', '117', '192', '100', '648', '558', '183', '107', '1394', '1271', '749', '1410', '496', '1097', '194', '78', '639', '344', '322', '451', '1162', '1211', '1914', '399', '1758', '1170', '69', '1698', '1071', '1430', '1147', '1762', '906', '594', '709', '960', '1357', '1219', '1653', '1727', '93', '525', '1231', '482', '1215', '795', '84', '266', '1030', '653', '1290', '1142', '1210', '1280', '901', '178', '1431', '1306', '850', '475', '976', '833', '1367', '841', '1966', '1779', '533', '360', '981', '1313', '1259', '618', '1894', '795', '1104', '1111', '757', '67', '1231', '472', '927', '581', '70', '1518', '1178', '1162', '1097', '492', '540', '714', '435', '1933', '1608', '573', '745', '1164', '272', '889', '783', '1335', '1114', '69', '656', '852', '100', '1824', '309', '1286', '1293', '1009', '1764', '216', '80', '616', '1252', '635', '1889', '1806', '238', '386', '1628', '1102', '1572', '184', '1777', '1194', '1755', '660', '1108', '1502', '1113', '1963', '1281', '203', '87', '703', '560', '649', '535', '1042', '1351', '338', '1046', '1299', '359', '1701', '414', '807', '898', '1289', '686', '1863', '796', '346', '1879', '1949', '457', '1189', '2000', '135', '1227', '1191', '1144', '529', '756', '988', '371', '704', '621', '1107', '722', '708', '442', '1740', '231', '1800', '1793', '1761', '1846', '608', '1306', '550', '1599', '1716', '648', '675', '1102', '632', '1411', '1111', '1317', '1885', '1442', '1558', '432', '1219', '1523', '63', '436', '68', '1502', '1842', '202', '1599', '1931', '902', '273', '1201', '1657', '1689', '334', '154', '1691', '793', '1907', '590', '93', '798', '459', '1380', '1105', '1491', '813', '646', '625', '1406', '326', '592', '892', '1469', '1137', '417', '850', '257', '243', '665', '174', '845', '1761', '1054', '1889', '1975', '982', '1667', '304', '676', '1845', '935', '468', '1712', '105', '1796', '1206', '1822', '1314', '249', '1380', '157', '1449', '178', '1562', '1202', '1485', '1031', '868', '1764', '1913', '451', '911', '1337', '579', '1279', '1810', '216', '1568', '820', '349', '1776', '1907', '1517', '1016', '186', '1072', '506', '1318', '1853', '895', '617', '696', '1880', '544', '1322', '606', '941', '1050', '1060', '876', '1184', '1547', '1249', '1242', '989', '1696', '1746', '367', '1307', '1349', '1945', '1601', '1717', '1096', '909', '1094', '1997', '105', '1125', '706', '1210', '631', '1073', '1658', '278', '1812', '994', '586', '703', '584', '1113', '1524', '1927', '1658', '1719', '1588', '265', '1778', '227', '1706', '1566', '1888', '1622', '1527', '701', '793', '610', '1074', '1112', '1050', '1446', '799', '1408', '209', '302', '223', '1668', '593', '1909', '610', '260', '550', '1940', '739', '1654', '1820', '835', '1393', '73', '951', '58', '1752', '1651', '1455', '1284', '359', '1576', '1088', '257', '1636', '1734', '298', '1196', '1915', '193', '382', '1181', '1204', '186', '1600', '1395', '1309', '1389', '906', '722', '717', '1302', '664', '906', '427', '904', '502', '1427', '1868', '1106', '493', '103', '1856', '1519', '1270', '1408', '311', '836', '934', '737', '1810', '1639', '1141', '1601', '1695', '1758', '1069', '1433', '1668', '1161', '1069', '485', '1159', '1665', '602', '1924', '777', '1108', '1840', '1244', '1140', '90', '903', '214', '436', '1822', '376', '1984', '64', '409', '1219', '1430', '1538', '691', '137', '1237', '1494', '1490', '936', '1330', '898', '1265', '140', '309', '920', '1083', '1757', '602', '134', '210', '63', '1036', '1894', '229', '734', '1283', '808', '1931', '1580', '1845', '899', '841', '1638', '291', '528', '1778', '1779', '1611', '110', '280', '74', '454', '1552', '270', '341', '242', '176', '778', '1069', '704', '783', '539', '932', '854', '844', '1308', '1998', '1102', '722', '1756', '95', '1950', '979', '1616', '1682', '338', '1679', '670', '607', '439', '466', '1053', '1669', '1726', '243', '329', '441', '485', '1993', '1887', '1340', '1983', '683', '198', '478', '117', '491', '1630', '1142', '1003', '164', '1244', '1294', '1141', '1800', '1734', '77', '1348', '1702', '679', '1726', '510', '1193', '1917', '716', '267', '725', '1053', '898', '526', '1197', '1040', '1744', '256', '1080', '1679', '1481', '388', '1974', '135', '907', '1163', '1901', '468', '1168', '426', '53', '199', '839', '1052', '1497', '1348', '982', '792', '1798', '1464', '626', '645', '443', '1593', '700', '88', '1576', '1143', '1552', '907', '952', '126', '139', '1942', '1930', '1896', '592', '810', '1017', '1053', '187', '1108', '864', '548', '822', '195', '552', '1087', '1875', '1474', '1116', '652', '1386', '147', '1489', '1307', '1319', '1513', '1529', '1466', '1444', '1265', '774', '233', '1326', '976', '1242', '318', '808'], 'Brand': ['Brand A', 'Brand E', 'Brand H', 'Brand F', 'Brand F', 'Brand H', 'Brand F', 'Brand D', 'Brand H', 'Brand C', 'Brand I', 'Brand H', 'Brand G', 'Brand A', 'Brand C', 'Brand D', 'Brand D', 'Brand G', 'Brand J', 'Brand H', 'Brand D', 'Brand C', 'Brand E', 'Brand A', 'Brand C', 'Brand D', 'Brand F', 'Brand I', 'Brand B', 'Brand B', 'Brand I', 'Brand E', 'Brand F', 'Brand B', 'Brand G', 'Brand B', 'Brand A', 'Brand I', 'Brand B', 'Brand I', 'Brand I', 'Brand F', 'Brand B', 'Brand F', 'Brand E', 'Brand J', 'Brand J', 'Brand F', 'Brand J', 'Brand A', 'Brand G', 'Brand F', 'Brand E', 'Brand C', 'Brand F', 'Brand G', 'Brand E', 'Brand C', 'Brand E', 'Brand F', 'Brand I', 'Brand F', 'Brand J', 'Brand J', 'Brand D', 'Brand E', 'Brand J', 'Brand F', 'Brand J', 'Brand F', 'Brand A', 'Brand H', 'Brand F', 'Brand E', 'Brand G', 'Brand I', 'Brand B', 'Brand I', 'Brand G', 'Brand G', 'Brand I', 'Brand C', 'Brand I', 'Brand G', 'Brand G', 'Brand J', 'Brand A', 'Brand E', 'Brand J', 'Brand G', 'Brand A', 'Brand F', 'Brand G', 'Brand J', 'Brand J', 'Brand H', 'Brand I', 'Brand I', 'Brand B', 'Brand A', 'Brand D', 'Brand C', 'Brand C', 'Brand G', 'Brand C', 'Brand C', 'Brand G', 'Brand I', 'Brand E', 'Brand D', 'Brand C', 'Brand I', 'Brand H', 'Brand A', 'Brand H', 'Brand I', 'Brand E', 'Brand D', 'Brand F', 'Brand C', 'Brand D', 'Brand F', 'Brand I', 'Brand E', 'Brand F', 'Brand G', 'Brand H', 'Brand F', 'Brand I', 'Brand I', 'Brand B', 'Brand H', 'Brand A', 'Brand A', 'Brand C', 'Brand C', 'Brand I', 'Brand E', 'Brand I', 'Brand C', 'Brand C', 'Brand A', 'Brand E', 'Brand E', 'Brand E', 'Brand A', 'Brand H', 'Brand C', 'Brand H', 'Brand E', 'Brand D', 'Brand D', 'Brand B', 'Brand F', 'Brand A', 'Brand E', 'Brand C', 'Brand I', 'Brand H', 'Brand H', 'Brand G', 'Brand A', 'Brand H', 'Brand D', 'Brand I', 'Brand A', 'Brand J', 'Brand B', 'Brand F', 'Brand J', 'Brand C', 'Brand I', 'Brand D', 'Brand C', 'Brand H', 'Brand B', 'Brand C', 'Brand A', 'Brand G', 'Brand G', 'Brand E', 'Brand F', 'Brand J', 'Brand C', 'Brand I', 'Brand J', 'Brand C', 'Brand I', 'Brand D', 'Brand G', 'Brand H', 'Brand F', 'Brand G', 'Brand I', 'Brand F', 'Brand F', 'Brand E', 'Brand H', 'Brand C', 'Brand G', 'Brand D', 'Brand I', 'Brand H', 'Brand I', 'Brand C', 'Brand J', 'Brand H', 'Brand G', 'Brand D', 'Brand G', 'Brand G', 'Brand E', 'Brand E', 'Brand J', 'Brand C', 'Brand H', 'Brand A', 'Brand B', 'Brand J', 'Brand F', 'Brand D', 'Brand C', 'Brand F', 'Brand E', 'Brand F', 'Brand G', 'Brand C', 'Brand E', 'Brand G', 'Brand C', 'Brand C', 'Brand G', 'Brand E', 'Brand H', 'Brand I', 'Brand J', 'Brand E', 'Brand H', 'Brand A', 'Brand G', 'Brand B', 'Brand B', 'Brand C', 'Brand D', 'Brand C', 'Brand I', 'Brand I', 'Brand C', 'Brand C', 'Brand J', 'Brand F', 'Brand H', 'Brand I', 'Brand H', 'Brand H', 'Brand B', 'Brand A', 'Brand I', 'Brand G', 'Brand E', 'Brand I', 'Brand C', 'Brand I', 'Brand J', 'Brand J', 'Brand A', 'Brand F', 'Brand F', 'Brand H', 'Brand F', 'Brand B', 'Brand A', 'Brand G', 'Brand B', 'Brand H', 'Brand H', 'Brand C', 'Brand D', 'Brand C', 'Brand G', 'Brand C', 'Brand G', 'Brand D', 'Brand G', 'Brand C', 'Brand G', 'Brand H', 'Brand H', 'Brand G', 'Brand G', 'Brand G', 'Brand A', 'Brand G', 'Brand C', 'Brand E', 'Brand H', 'Brand J', 'Brand J', 'Brand E', 'Brand C', 'Brand A', 'Brand G', 'Brand H', 'Brand B', 'Brand E', 'Brand B', 'Brand I', 'Brand I', 'Brand F', 'Brand E', 'Brand E', 'Brand J', 'Brand I', 'Brand C', 'Brand C', 'Brand E', 'Brand H', 'Brand G', 'Brand D', 'Brand A', 'Brand F', 'Brand B', 'Brand J', 'Brand G', 'Brand F', 'Brand J', 'Brand I', 'Brand C', 'Brand B', 'Brand I', 'Brand C', 'Brand I', 'Brand A', 'Brand F', 'Brand G', 'Brand I', 'Brand J', 'Brand I', 'Brand B', 'Brand I', 'Brand A', 'Brand D', 'Brand B', 'Brand I', 'Brand A', 'Brand H', 'Brand D', 'Brand F', 'Brand J', 'Brand I', 'Brand I', 'Brand A', 'Brand D', 'Brand D', 'Brand G', 'Brand G', 'Brand D', 'Brand A', 'Brand I', 'Brand G', 'Brand B', 'Brand H', 'Brand B', 'Brand J', 'Brand D', 'Brand J', 'Brand B', 'Brand D', 'Brand J', 'Brand H', 'Brand A', 'Brand F', 'Brand B', 'Brand I', 'Brand I', 'Brand C', 'Brand H', 'Brand D', 'Brand D', 'Brand G', 'Brand F', 'Brand C', 'Brand H', 'Brand H', 'Brand G', 'Brand G', 'Brand G', 'Brand J', 'Brand E', 'Brand G', 'Brand G', 'Brand F', 'Brand G', 'Brand B', 'Brand H', 'Brand E', 'Brand G', 'Brand I', 'Brand H', 'Brand E', 'Brand B', 'Brand B', 'Brand E', 'Brand C', 'Brand D', 'Brand E', 'Brand C', 'Brand I', 'Brand A', 'Brand A', 'Brand E', 'Brand I', 'Brand J', 'Brand C', 'Brand A', 'Brand E', 'Brand I', 'Brand G', 'Brand A', 'Brand C', 'Brand J', 'Brand D', 'Brand E', 'Brand H', 'Brand A', 'Brand A', 'Brand H', 'Brand A', 'Brand E', 'Brand B', 'Brand J', 'Brand B', 'Brand J', 'Brand G', 'Brand E', 'Brand H', 'Brand I', 'Brand J', 'Brand F', 'Brand D', 'Brand E', 'Brand J', 'Brand E', 'Brand B', 'Brand G', 'Brand G', 'Brand G', 'Brand E', 'Brand E', 'Brand E', 'Brand J', 'Brand I', 'Brand B', 'Brand D', 'Brand A', 'Brand D', 'Brand F', 'Brand C', 'Brand F', 'Brand D', 'Brand A', 'Brand E', 'Brand G', 'Brand E', 'Brand I', 'Brand B', 'Brand E', 'Brand I', 'Brand E', 'Brand C', 'Brand F', 'Brand A', 'Brand A', 'Brand A', 'Brand E', 'Brand B', 'Brand G', 'Brand I', 'Brand E', 'Brand D', 'Brand I', 'Brand G', 'Brand F', 'Brand F', 'Brand F', 'Brand F', 'Brand B', 'Brand C', 'Brand E', 'Brand C', 'Brand C', 'Brand B', 'Brand D', 'Brand J', 'Brand C', 'Brand D', 'Brand A', 'Brand A', 'Brand E', 'Brand B', 'Brand A', 'Brand E', 'Brand G', 'Brand G', 'Brand D', 'Brand H', 'Brand D', 'Brand C', 'Brand A', 'Brand F', 'Brand D', 'Brand A', 'Brand B', 'Brand H', 'Brand I', 'Brand E', 'Brand D', 'Brand B', 'Brand F', 'Brand B', 'Brand I', 'Brand J', 'Brand H', 'Brand A', 'Brand F', 'Brand I', 'Brand D', 'Brand C', 'Brand D', 'Brand B', 'Brand F', 'Brand A', 'Brand H', 'Brand E', 'Brand C', 'Brand I', 'Brand A', 'Brand F', 'Brand A', 'Brand I', 'Brand A', 'Brand C', 'Brand A', 'Brand E', 'Brand D', 'Brand B', 'Brand F', 'Brand I', 'Brand E', 'Brand A', 'Brand B', 'Brand I', 'Brand G', 'Brand D', 'Brand A', 'Brand I', 'Brand D', 'Brand G', 'Brand F', 'Brand J', 'Brand B', 'Brand G', 'Brand D', 'Brand B', 'Brand B', 'Brand A', 'Brand J', 'Brand J', 'Brand G', 'Brand H', 'Brand E', 'Brand A', 'Brand I', 'Brand J', 'Brand D', 'Brand F', 'Brand J', 'Brand J', 'Brand E', 'Brand J', 'Brand B', 'Brand D', 'Brand I', 'Brand F', 'Brand J', 'Brand E', 'Brand C', 'Brand H', 'Brand H', 'Brand C', 'Brand J', 'Brand B', 'Brand H', 'Brand G', 'Brand G', 'Brand B', 'Brand G', 'Brand I', 'Brand J', 'Brand I', 'Brand B', 'Brand F', 'Brand J', 'Brand C', 'Brand B', 'Brand J', 'Brand C', 'Brand D', 'Brand H', 'Brand B', 'Brand E', 'Brand H', 'Brand J', 'Brand H', 'Brand E', 'Brand J', 'Brand E', 'Brand A', 'Brand D', 'Brand E', 'Brand H', 'Brand G', 'Brand F', 'Brand C', 'Brand D', 'Brand I', 'Brand E', 'Brand J', 'Brand C', 'Brand C', 'Brand J', 'Brand J', 'Brand F', 'Brand B', 'Brand F', 'Brand I', 'Brand A', 'Brand J', 'Brand G', 'Brand G', 'Brand C', 'Brand I', 'Brand C', 'Brand H', 'Brand I', 'Brand J', 'Brand I', 'Brand A', 'Brand B', 'Brand J', 'Brand B', 'Brand G', 'Brand E', 'Brand J', 'Brand F', 'Brand I', 'Brand D', 'Brand F', 'Brand F', 'Brand D', 'Brand F', 'Brand G', 'Brand E', 'Brand G', 'Brand F', 'Brand E', 'Brand D', 'Brand F', 'Brand C', 'Brand B', 'Brand H', 'Brand F', 'Brand J', 'Brand H', 'Brand H', 'Brand G', 'Brand D', 'Brand I', 'Brand I', 'Brand I', 'Brand J', 'Brand A', 'Brand G', 'Brand E', 'Brand J', 'Brand G', 'Brand G', 'Brand A', 'Brand F', 'Brand A', 'Brand H', 'Brand C', 'Brand I', 'Brand F', 'Brand D', 'Brand A', 'Brand A', 'Brand C', 'Brand G', 'Brand H', 'Brand A', 'Brand E', 'Brand J', 'Brand G', 'Brand C', 'Brand H', 'Brand B', 'Brand I', 'Brand A', 'Brand I', 'Brand D', 'Brand C', 'Brand C', 'Brand C', 'Brand F', 'Brand D', 'Brand C', 'Brand J', 'Brand I', 'Brand I', 'Brand G', 'Brand E', 'Brand A', 'Brand J', 'Brand J', 'Brand D', 'Brand G', 'Brand C', 'Brand G', 'Brand H', 'Brand B', 'Brand J', 'Brand A', 'Brand E', 'Brand E', 'Brand I', 'Brand F', 'Brand C', 'Brand F', 'Brand B', 'Brand B', 'Brand F', 'Brand A', 'Brand C', 'Brand F', 'Brand G', 'Brand E', 'Brand F', 'Brand I', 'Brand B', 'Brand F', 'Brand I', 'Brand D', 'Brand J', 'Brand C', 'Brand I', 'Brand G', 'Brand G', 'Brand G', 'Brand I', 'Brand C', 'Brand H', 'Brand J', 'Brand J', 'Brand D', 'Brand A', 'Brand F', 'Brand A', 'Brand I', 'Brand I', 'Brand D', 'Brand C', 'Brand C', 'Brand E', 'Brand J', 'Brand H', 'Brand B', 'Brand D', 'Brand B', 'Brand D', 'Brand F', 'Brand B', 'Brand D', 'Brand F', 'Brand C', 'Brand J', 'Brand I', 'Brand H', 'Brand G', 'Brand H', 'Brand G', 'Brand E', 'Brand H', 'Brand E', 'Brand B', 'Brand A', 'Brand B', 'Brand J', 'Brand A', 'Brand G', 'Brand C', 'Brand F', 'Brand B', 'Brand J', 'Brand C', 'Brand F', 'Brand I', 'Brand C', 'Brand D', 'Brand H', 'Brand I', 'Brand G', 'Brand F', 'Brand B', 'Brand D', 'Brand A', 'Brand H', 'Brand C', 'Brand F', 'Brand D', 'Brand B', 'Brand F', 'Brand F', 'Brand H', 'Brand B', 'Brand F', 'Brand H', 'Brand A', 'Brand C', 'Brand E', 'Brand G', 'Brand B', 'Brand I', 'Brand G', 'Brand D', 'Brand C', 'Brand A', 'Brand D', 'Brand D', 'Brand I', 'Brand A', 'Brand B', 'Brand A', 'Brand H', 'Brand H', 'Brand D', 'Brand I', 'Brand A', 'Brand D', 'Brand H', 'Brand B', 'Brand I', 'Brand I', 'Brand H', 'Brand B', 'Brand I', 'Brand J', 'Brand D', 'Brand D', 'Brand H', 'Brand A', 'Brand E', 'Brand A', 'Brand C', 'Brand C', 'Brand B', 'Brand I', 'Brand I', 'Brand D', 'Brand E', 'Brand C', 'Brand D', 'Brand C', 'Brand F', 'Brand H', 'Brand F', 'Brand F', 'Brand D', 'Brand H', 'Brand G', 'Brand H', 'Brand A', 'Brand D', 'Brand F', 'Brand F', 'Brand F', 'Brand D', 'Brand I', 'Brand B', 'Brand E', 'Brand J', 'Brand F', 'Brand D', 'Brand G', 'Brand G', 'Brand F', 'Brand E', 'Brand A', 'Brand H', 'Brand D', 'Brand D', 'Brand B', 'Brand I', 'Brand D', 'Brand I', 'Brand C', 'Brand F', 'Brand J', 'Brand A', 'Brand G', 'Brand G', 'Brand J', 'Brand E', 'Brand B', 'Brand I', 'Brand C', 'Brand G', 'Brand B', 'Brand I', 'Brand I', 'Brand F', 'Brand E', 'Brand D', 'Brand A', 'Brand I', 'Brand D', 'Brand I', 'Brand H', 'Brand A', 'Brand J', 'Brand F', 'Brand F', 'Brand J', 'Brand E', 'Brand G', 'Brand A', 'Brand A', 'Brand H', 'Brand G', 'Brand I', 'Brand G', 'Brand F', 'Brand G', 'Brand B', 'Brand A', 'Brand F', 'Brand C', 'Brand C', 'Brand H', 'Brand F', 'Brand E', 'Brand H', 'Brand F', 'Brand F', 'Brand A', 'Brand I', 'Brand D', 'Brand I', 'Brand E', 'Brand E', 'Brand J', 'Brand H', 'Brand E', 'Brand J', 'Brand C', 'Brand E', 'Brand E', 'Brand G', 'Brand D', 'Brand A', 'Brand I', 'Brand F', 'Brand I', 'Brand I', 'Brand D', 'Brand H', 'Brand C', 'Brand J', 'Brand C', 'Brand E', 'Brand I', 'Brand E', 'Brand I', 'Brand G', 'Brand I', 'Brand B', 'Brand F', 'Brand I', 'Brand J', 'Brand B', 'Brand J', 'Brand I', 'Brand I', 'Brand H', 'Brand A', 'Brand J', 'Brand J', 'Brand E', 'Brand J', 'Brand J'], 'Stock': ['56', '144', '7', '65', '2', '315', '20', '405', '388', '314', '37', '100', '431', '334', '375', '400', '4', '457', '336', '329', '324', '93', '288', '235', '226', '23', '129', '70', '356', '27', '128', '76', '296', '472', '436', '232', '373', '465', '235', '157', '386', '367', '155', '113', '447', '156', '377', '64', '294', '470', '413', '252', '160', '29', '433', '210', '249', '292', '303', '346', '157', '157', '91', '42', '325', '175', '358', '327', '291', '337', '160', '190', '370', '10', '456', '161', '63', '493', '488', '96', '225', '457', '116', '149', '281', '203', '387', '82', '140', '350', '444', '176', '140', '230', '484', '16', '478', '92', '30', '328', '116', '259', '123', '155', '453', '52', '6', '492', '44', '120', '449', '271', '197', '393', '240', '87', '423', '236', '130', '282', '16', '151', '344', '267', '240', '243', '411', '273', '91', '310', '325', '228', '98', '57', '323', '95', '312', '500', '291', '475', '256', '25', '466', '110', '311', '232', '204', '403', '239', '394', '492', '3', '254', '370', '147', '425', '245', '106', '287', '330', '118', '188', '428', '179', '408', '482', '452', '325', '72', '355', '155', '201', '313', '23', '411', '411', '383', '277', '262', '253', '456', '307', '198', '29', '468', '190', '378', '490', '174', '460', '491', '129', '437', '88', '308', '80', '224', '397', '123', '476', '107', '38', '123', '386', '65', '167', '50', '365', '177', '185', '24', '366', '472', '300', '58', '283', '24', '112', '164', '301', '279', '157', '228', '170', '407', '132', '201', '343', '364', '386', '455', '90', '227', '173', '26', '144', '231', '226', '468', '192', '253', '327', '340', '500', '488', '321', '427', '15', '352', '49', '42', '239', '151', '473', '161', '323', '189', '279', '447', '167', '266', '441', '123', '22', '441', '446', '62', '477', '431', '69', '388', '73', '447', '99', '112', '352', '459', '451', '427', '244', '205', '401', '387', '19', '295', '380', '54', '318', '257', '497', '353', '397', '472', '367', '148', '34', '311', '201', '237', '105', '174', '117', '408', '248', '162', '57', '363', '12', '278', '370', '258', '231', '44', '278', '135', '251', '32', '178', '184', '322', '24', '317', '61', '34', '80', '185', '180', '381', '4', '126', '464', '139', '334', '494', '484', '446', '430', '330', '357', '160', '343', '134', '244', '127', '489', '483', '194', '156', '331', '289', '228', '80', '144', '444', '197', '211', '364', '483', '91', '316', '142', '85', '417', '286', '417', '420', '193', '255', '80', '165', '135', '46', '118', '463', '332', '218', '402', '450', '73', '301', '183', '400', '269', '412', '436', '4', '277', '486', '316', '91', '112', '196', '420', '393', '86', '428', '437', '480', '14', '34', '379', '53', '109', '18', '22', '40', '386', '359', '87', '196', '474', '153', '373', '412', '43', '177', '127', '484', '474', '214', '302', '422', '447', '127', '216', '321', '95', '214', '214', '275', '355', '160', '323', '389', '387', '363', '343', '424', '95', '107', '172', '292', '124', '307', '180', '332', '96', '343', '70', '57', '131', '316', '482', '178', '39', '126', '316', '68', '314', '143', '216', '283', '360', '401', '303', '244', '1', '252', '32', '123', '365', '262', '86', '395', '168', '354', '154', '90', '470', '173', '52', '28', '271', '270', '403', '45', '498', '71', '94', '109', '3', '41', '417', '68', '240', '189', '403', '301', '250', '150', '151', '436', '142', '287', '421', '490', '389', '75', '131', '302', '199', '269', '275', '456', '3', '373', '332', '490', '412', '114', '37', '290', '342', '357', '12', '7', '146', '477', '186', '466', '245', '423', '350', '328', '324', '74', '497', '93', '229', '202', '127', '340', '147', '61', '310', '163', '216', '377', '141', '391', '1', '169', '322', '471', '89', '318', '328', '478', '416', '272', '103', '369', '220', '57', '66', '236', '493', '352', '192', '161', '407', '481', '51', '120', '192', '390', '391', '208', '209', '36', '210', '160', '485', '29', '282', '271', '295', '97', '424', '109', '186', '284', '6', '32', '368', '476', '413', '439', '440', '274', '335', '88', '493', '190', '291', '341', '474', '257', '199', '426', '488', '1', '202', '178', '171', '346', '381', '481', '494', '78', '420', '474', '438', '389', '65', '47', '135', '365', '69', '30', '266', '252', '125', '139', '67', '172', '250', '6', '307', '456', '62', '147', '463', '162', '394', '459', '472', '316', '220', '249', '39', '456', '359', '79', '413', '387', '114', '429', '282', '61', '61', '1', '382', '80', '482', '236', '122', '242', '270', '351', '78', '86', '140', '114', '439', '394', '322', '67', '12', '250', '29', '105', '124', '71', '190', '450', '138', '341', '216', '464', '462', '209', '438', '174', '236', '344', '241', '52', '254', '128', '303', '126', '125', '111', '487', '210', '382', '213', '26', '463', '107', '262', '344', '73', '98', '171', '66', '101', '182', '96', '29', '233', '151', '499', '429', '407', '492', '270', '365', '22', '373', '225', '251', '118', '497', '192', '223', '251', '153', '498', '100', '114', '300', '97', '403', '217', '220', '100', '382', '291', '443', '84', '155', '180', '485', '170', '360', '67', '17', '436', '362', '367', '83', '251', '285', '134', '331', '470', '55', '384', '9', '64', '215', '450', '422', '20', '203', '149', '115', '499', '98', '74', '65', '23', '80', '440', '359', '99', '172', '381', '159', '243', '207', '433', '33', '299', '435', '487', '413', '14', '317', '471', '309', '244', '108', '100', '487', '191', '379', '405', '342', '93', '484', '176', '196', '173', '69', '193', '456', '120', '214', '213', '26', '460', '146', '488', '42', '169', '282', '110', '439', '229', '102', '428', '372', '394', '231', '160', '461', '41', '152', '466', '56', '328', '130', '206', '246', '414', '86', '277', '336', '43', '230', '156', '405', '68', '275', '146', '455', '409', '101', '184', '304', '219', '159', '22', '355', '185', '26', '84', '78', '405', '45', '456', '356', '87', '196', '454', '183', '407', '488', '81', '9', '248', '458', '397', '392', '467', '273', '136', '422', '436', '201', '99', '334', '166', '199', '420', '68', '338', '208', '451', '102', '314', '30', '489', '438', '194', '281', '9', '382', '264', '498', '45', '2', '108', '289', '73', '10', '96', '181', '370', '320', '395', '263', '305', '431', '495', '416', '195', '368', '325', '500', '52', '61', '105', '220', '468', '255', '45', '332', '9', '412', '445', '300', '463', '435', '21', '213', '353', '338', '263', '154', '175', '246', '276', '64', '330', '225', '259', '151', '418', '453', '432', '13', '115', '17', '129', '478', '333', '267', '356', '432', '254', '238', '79', '139', '234', '116', '257', '146', '402', '291', '410', '73', '287', '360', '80', '230', '492', '188', '354', '197', '496', '437', '243', '348', '278', '276', '88'], 'Category': ['Office', 'Electronics', 'Photography', 'Electronics', 'Electronics', 'Audio', 'Electronics', 'Accessories', 'Photography', 'Accessories', 'Accessories', 'Accessories', 'Electronics', 'Office', 'Photography', 'Office', 'Office', 'Audio', 'Electronics', 'Accessories', 'Electronics', 'Accessories', 'Office', 'Electronics', 'Accessories', 'Electronics', 'Electronics', 'Accessories', 'Electronics', 'Accessories', 'Electronics', 'Accessories', 'Electronics', 'Accessories', 'Accessories', 'Accessories', 'Electronics', 'Office', 'Office', 'Electronics', 'Office', 'Accessories', 'Accessories', 'Photography', 'Electronics', 'Accessories', 'Accessories', 'Electronics', 'Photography', 'Accessories', 'Office', 'Office', 'Electronics', 'Photography', 'Office', 'Electronics', 'Accessories', 'Accessories', 'Accessories', 'Electronics', 'Audio', 'Accessories', 'Electronics', 'Accessories', 'Accessories', 'Office', 'Accessories', 'Electronics', 'Electronics', 'Electronics', 'Electronics', 'Electronics', 'Audio', 'Office', 'Office', 'Audio', 'Electronics', 'Electronics', 'Office', 'Accessories', 'Electronics', 'Accessories', 'Office', 'Photography', 'Electronics', 'Electronics', 'Electronics', 'Office', 'Accessories', 'Accessories', 'Audio', 'Photography', 'Office', 'Electronics', 'Electronics', 'Office', 'Photography', 'Electronics', 'Office', 'Electronics', 'Electronics', 'Accessories', 'Electronics', 'Photography', 'Office', 'Audio', 'Photography', 'Accessories', 'Office', 'Office', 'Electronics', 'Accessories', 'Electronics', 'Accessories', 'Office', 'Electronics', 'Office', 'Photography', 'Accessories', 'Accessories', 'Electronics', 'Accessories', 'Photography', 'Office', 'Electronics', 'Accessories', 'Accessories', 'Office', 'Photography', 'Accessories', 'Office', 'Office', 'Office', 'Accessories', 'Audio', 'Electronics', 'Electronics', 'Audio', 'Electronics', 'Accessories', 'Accessories', 'Office', 'Office', 'Accessories', 'Accessories', 'Photography', 'Electronics', 'Accessories', 'Audio', 'Accessories', 'Accessories', 'Accessories', 'Electronics', 'Electronics', 'Office', 'Electronics', 'Office', 'Electronics', 'Electronics', 'Electronics', 'Photography', 'Accessories', 'Audio', 'Office', 'Office', 'Electronics', 'Office', 'Accessories', 'Electronics', 'Audio', 'Electronics', 'Accessories', 'Accessories', 'Electronics', 'Accessories', 'Electronics', 'Accessories', 'Electronics', 'Accessories', 'Electronics', 'Electronics', 'Accessories', 'Office', 'Electronics', 'Electronics', 'Accessories', 'Photography', 'Electronics', 'Electronics', 'Office', 'Electronics', 'Electronics', 'Electronics', 'Electronics', 'Electronics', 'Accessories', 'Office', 'Audio', 'Office', 'Photography', 'Accessories', 'Electronics', 'Office', 'Electronics', 'Electronics', 'Accessories', 'Electronics', 'Audio', 'Office', 'Electronics', 'Accessories', 'Accessories', 'Electronics', 'Audio', 'Accessories', 'Accessories', 'Accessories', 'Electronics', 'Photography', 'Accessories', 'Office', 'Office', 'Accessories', 'Audio', 'Photography', 'Office', 'Accessories', 'Electronics', 'Office', 'Accessories', 'Photography', 'Electronics', 'Accessories', 'Accessories', 'Electronics', 'Office', 'Office', 'Electronics', 'Audio', 'Accessories', 'Office', 'Electronics', 'Accessories', 'Office', 'Office', 'Accessories', 'Accessories', 'Audio', 'Accessories', 'Electronics', 'Electronics', 'Electronics', 'Accessories', 'Office', 'Electronics', 'Accessories', 'Electronics', 'Office', 'Photography', 'Audio', 'Electronics', 'Electronics', 'Electronics', 'Audio', 'Electronics', 'Electronics', 'Electronics', 'Electronics', 'Office', 'Electronics', 'Office', 'Accessories', 'Electronics', 'Electronics', 'Audio', 'Accessories', 'Accessories', 'Photography', 'Photography', 'Photography', 'Accessories', 'Photography', 'Office', 'Office', 'Electronics', 'Accessories', 'Accessories', 'Electronics', 'Accessories', 'Electronics', 'Accessories', 'Accessories', 'Office', 'Accessories', 'Accessories', 'Electronics', 'Accessories', 'Accessories', 'Accessories', 'Electronics', 'Accessories', 'Electronics', 'Electronics', 'Electronics', 'Electronics', 'Accessories', 'Accessories', 'Audio', 'Office', 'Electronics', 'Accessories', 'Office', 'Audio', 'Office', 'Electronics', 'Accessories', 'Electronics', 'Accessories', 'Electronics', 'Office', 'Accessories', 'Electronics', 'Photography', 'Audio', 'Accessories', 'Electronics', 'Office', 'Accessories', 'Accessories', 'Photography', 'Accessories', 'Electronics', 'Electronics', 'Audio', 'Accessories', 'Accessories', 'Electronics', 'Electronics', 'Audio', 'Accessories', 'Accessories', 'Audio', 'Electronics', 'Electronics', 'Office', 'Office', 'Accessories', 'Audio', 'Office', 'Electronics', 'Accessories', 'Office', 'Photography', 'Electronics', 'Electronics', 'Electronics', 'Office', 'Electronics', 'Accessories', 'Accessories', 'Audio', 'Audio', 'Electronics', 'Electronics', 'Accessories', 'Office', 'Office', 'Electronics', 'Office', 'Accessories', 'Accessories', 'Electronics', 'Accessories', 'Office', 'Audio', 'Electronics', 'Office', 'Electronics', 'Accessories', 'Audio', 'Accessories', 'Accessories', 'Electronics', 'Office', 'Audio', 'Photography', 'Accessories', 'Electronics', 'Accessories', 'Electronics', 'Office', 'Audio', 'Accessories', 'Accessories', 'Electronics', 'Photography', 'Electronics', 'Accessories', 'Office', 'Office', 'Photography', 'Audio', 'Office', 'Accessories', 'Photography', 'Office', 'Accessories', 'Electronics', 'Office', 'Audio', 'Electronics', 'Electronics', 'Photography', 'Photography', 'Photography', 'Accessories', 'Electronics', 'Accessories', 'Electronics', 'Accessories', 'Electronics', 'Audio', 'Audio', 'Office', 'Accessories', 'Accessories', 'Office', 'Audio', 'Photography', 'Office', 'Accessories', 'Photography', 'Electronics', 'Electronics', 'Electronics', 'Electronics', 'Electronics', 'Photography', 'Electronics', 'Audio', 'Audio', 'Office', 'Office', 'Audio', 'Office', 'Office', 'Accessories', 'Accessories', 'Accessories', 'Audio', 'Electronics', 'Accessories', 'Electronics', 'Accessories', 'Electronics', 'Office', 'Accessories', 'Photography', 'Electronics', 'Electronics', 'Electronics', 'Office', 'Office', 'Photography', 'Accessories', 'Audio', 'Accessories', 'Photography', 'Accessories', 'Office', 'Photography', 'Accessories', 'Accessories', 'Photography', 'Electronics', 'Electronics', 'Electronics', 'Accessories', 'Electronics', 'Accessories', 'Accessories', 'Accessories', 'Office', 'Office', 'Electronics', 'Electronics', 'Photography', 'Electronics', 'Accessories', 'Office', 'Photography', 'Accessories', 'Electronics', 'Accessories', 'Electronics', 'Office', 'Electronics', 'Accessories', 'Accessories', 'Accessories', 'Accessories', 'Office', 'Electronics', 'Photography', 'Office', 'Office', 'Accessories', 'Accessories', 'Accessories', 'Photography', 'Electronics', 'Audio', 'Office', 'Accessories', 'Photography', 'Electronics', 'Office', 'Audio', 'Accessories', 'Electronics', 'Audio', 'Electronics', 'Accessories', 'Office', 'Accessories', 'Audio', 'Accessories', 'Accessories', 'Audio', 'Electronics', 'Office', 'Office', 'Electronics', 'Accessories', 'Photography', 'Office', 'Electronics', 'Photography', 'Accessories', 'Audio', 'Audio', 'Electronics', 'Accessories', 'Office', 'Accessories', 'Office', 'Photography', 'Accessories', 'Accessories', 'Photography', 'Electronics', 'Office', 'Photography', 'Accessories', 'Electronics', 'Accessories', 'Electronics', 'Accessories', 'Accessories', 'Accessories', 'Accessories', 'Photography', 'Accessories', 'Electronics', 'Audio', 'Office', 'Office', 'Audio', 'Accessories', 'Photography', 'Office', 'Audio', 'Accessories', 'Accessories', 'Office', 'Photography', 'Audio', 'Electronics', 'Accessories', 'Audio', 'Electronics', 'Office', 'Accessories', 'Photography', 'Electronics', 'Office', 'Photography', 'Office', 'Electronics', 'Audio', 'Accessories', 'Office', 'Accessories', 'Accessories', 'Electronics', 'Electronics', 'Electronics', 'Electronics', 'Accessories', 'Electronics', 'Photography', 'Office', 'Photography', 'Accessories', 'Accessories', 'Electronics', 'Office', 'Audio', 'Office', 'Electronics', 'Audio', 'Electronics', 'Photography', 'Office', 'Office', 'Electronics', 'Electronics', 'Accessories', 'Accessories', 'Accessories', 'Accessories', 'Audio', 'Electronics', 'Electronics', 'Accessories', 'Office', 'Accessories', 'Accessories', 'Electronics', 'Electronics', 'Office', 'Accessories', 'Accessories', 'Photography', 'Electronics', 'Electronics', 'Audio', 'Office', 'Accessories', 'Office', 'Electronics', 'Electronics', 'Photography', 'Accessories', 'Accessories', 'Accessories', 'Accessories', 'Office', 'Audio', 'Accessories', 'Accessories', 'Accessories', 'Electronics', 'Audio', 'Accessories', 'Audio', 'Electronics', 'Electronics', 'Photography', 'Office', 'Accessories', 'Office', 'Electronics', 'Office', 'Electronics', 'Office', 'Office', 'Office', 'Audio', 'Electronics', 'Electronics', 'Accessories', 'Electronics', 'Electronics', 'Office', 'Accessories', 'Electronics', 'Audio', 'Accessories', 'Accessories', 'Photography', 'Photography', 'Electronics', 'Accessories', 'Photography', 'Audio', 'Electronics', 'Accessories', 'Audio', 'Accessories', 'Audio', 'Electronics', 'Accessories', 'Office', 'Office', 'Electronics', 'Audio', 'Accessories', 'Office', 'Office', 'Office', 'Accessories', 'Photography', 'Accessories', 'Accessories', 'Electronics', 'Office', 'Electronics', 'Electronics', 'Electronics', 'Electronics', 'Audio', 'Accessories', 'Office', 'Accessories', 'Accessories', 'Accessories', 'Electronics', 'Office', 'Accessories', 'Accessories', 'Electronics', 'Electronics', 'Accessories', 'Office', 'Accessories', 'Accessories', 'Accessories', 'Electronics', 'Photography', 'Accessories', 'Accessories', 'Accessories', 'Accessories', 'Office', 'Office', 'Photography', 'Photography', 'Electronics', 'Electronics', 'Accessories', 'Photography', 'Accessories', 'Audio', 'Accessories', 'Photography', 'Office', 'Electronics', 'Office', 'Electronics', 'Office', 'Electronics', 'Photography', 'Accessories', 'Electronics', 'Office', 'Electronics', 'Office', 'Electronics', 'Photography', 'Audio', 'Electronics', 'Electronics', 'Office', 'Office', 'Office', 'Accessories', 'Accessories', 'Office', 'Electronics', 'Electronics', 'Accessories', 'Office', 'Audio', 'Electronics', 'Audio', 'Accessories', 'Office', 'Accessories', 'Electronics', 'Office', 'Accessories', 'Electronics', 'Accessories', 'Office', 'Electronics', 'Photography', 'Electronics', 'Accessories', 'Accessories', 'Office', 'Electronics', 'Accessories', 'Accessories', 'Office', 'Photography', 'Accessories', 'Office', 'Electronics', 'Office', 'Office', 'Accessories', 'Electronics', 'Accessories', 'Office', 'Office', 'Electronics', 'Office', 'Electronics', 'Photography', 'Accessories', 'Office', 'Audio', 'Electronics', 'Photography', 'Electronics', 'Accessories', 'Photography', 'Accessories', 'Office', 'Electronics', 'Electronics', 'Accessories', 'Electronics', 'Office', 'Photography', 'Office', 'Office', 'Office', 'Electronics', 'Accessories', 'Audio', 'Audio', 'Electronics', 'Electronics', 'Office', 'Photography', 'Electronics', 'Office', 'Accessories', 'Audio', 'Audio', 'Photography', 'Accessories', 'Accessories', 'Accessories', 'Electronics', 'Audio', 'Electronics', 'Accessories', 'Office', 'Office', 'Office', 'Electronics', 'Accessories', 'Electronics', 'Audio', 'Accessories', 'Electronics', 'Audio', 'Photography', 'Office', 'Accessories', 'Office', 'Photography', 'Office', 'Accessories', 'Accessories', 'Office', 'Office', 'Office', 'Photography', 'Electronics', 'Electronics', 'Audio', 'Office', 'Accessories', 'Audio', 'Accessories', 'Electronics', 'Audio', 'Electronics', 'Audio', 'Electronics', 'Office', 'Accessories', 'Accessories', 'Office', 'Office', 'Photography', 'Office', 'Electronics', 'Electronics', 'Electronics', 'Office', 'Office', 'Electronics', 'Audio', 'Photography', 'Electronics', 'Accessories', 'Electronics', 'Office', 'Electronics', 'Accessories', 'Office', 'Office', 'Audio', 'Electronics', 'Photography', 'Office', 'Electronics', 'Office', 'Electronics', 'Accessories', 'Accessories', 'Accessories', 'Accessories', 'Office', 'Office', 'Office', 'Audio', 'Electronics', 'Accessories', 'Accessories', 'Office', 'Accessories', 'Office', 'Accessories', 'Accessories', 'Accessories', 'Photography', 'Office', 'Office', 'Accessories', 'Accessories', 'Office', 'Office', 'Audio', 'Office', 'Electronics', 'Electronics', 'Audio', 'Office', 'Photography', 'Photography', 'Office', 'Office', 'Electronics', 'Office', 'Electronics', 'Audio', 'Accessories', 'Photography', 'Accessories', 'Audio', 'Audio', 'Accessories', 'Accessories', 'Electronics', 'Audio', 'Electronics', 'Electronics', 'Office', 'Accessories', 'Audio', 'Accessories', 'Electronics', 'Electronics', 'Accessories', 'Photography', 'Electronics', 'Office', 'Accessories', 'Office', 'Office', 'Accessories', 'Accessories', 'Electronics', 'Office', 'Accessories', 'Audio', 'Office', 'Office', 'Office', 'Photography', 'Accessories', 'Accessories', 'Electronics', 'Accessories', 'Electronics', 'Electronics', 'Photography', 'Office', 'Office', 'Audio', 'Electronics', 'Electronics', 'Photography', 'Photography']}\n",
    "\n",
    "table = pd.DataFrame.from_dict(data)\n",
    "\n",
    "# Step 3: Prepare your question\n",
    "question = f\"what are the prices of scanner from Brand J and Office ,consider intersection of Brand J ,Office?\"\n",
    "\n",
    "# Step 4: Convert the DataFrame to a string format\n",
    "table_str = table.to_string(index=False)\n",
    "\n",
    "# Step 5: Generate content with Gemini\n",
    "model = genai.GenerativeModel('gemini-1.5-flash')\n",
    "prompt = f\"Based on the following large table, answer the question: {question}\\n\\nTable:\\n{table_str}\"\n",
    "response = model.generate_content(prompt)\n",
    "\n",
    "# Step 6: Clean the response text to remove asterisks and other formatting\n",
    "cleaned_response = re.sub(r'\\*', '', response.text)\n",
    "\n",
    "# Step 7: Print the cleaned response\n",
    "print(f\"Question: {question}\")\n",
    "print(f\"Answer: {cleaned_response}\")\n"
   ]
  },
  {
   "cell_type": "code",
   "execution_count": null,
   "metadata": {
    "id": "oBSXYQ7zt770"
   },
   "outputs": [],
   "source": []
  }
 ],
 "metadata": {
  "accelerator": "GPU",
  "colab": {
   "gpuType": "T4",
   "provenance": []
  },
  "kernelspec": {
   "display_name": "Python 3 (ipykernel)",
   "language": "python",
   "name": "python3"
  },
  "language_info": {
   "codemirror_mode": {
    "name": "ipython",
    "version": 3
   },
   "file_extension": ".py",
   "mimetype": "text/x-python",
   "name": "python",
   "nbconvert_exporter": "python",
   "pygments_lexer": "ipython3",
   "version": "3.9.18"
  }
 },
 "nbformat": 4,
 "nbformat_minor": 4
}
