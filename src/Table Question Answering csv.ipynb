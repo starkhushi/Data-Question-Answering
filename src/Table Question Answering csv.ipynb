{
 "cells": [
  {
   "cell_type": "code",
   "execution_count": 1,
   "id": "b015d6a9-11e4-4f2a-8abe-1f72ad033a96",
   "metadata": {},
   "outputs": [
    {
     "name": "stdout",
     "output_type": "stream",
     "text": [
      "   ID     Name  Age         City Occupation\n",
      "0   1    Alice   30     New York   Engineer\n",
      "1   2      Bob   25  Los Angeles    Teacher\n",
      "2   3  Charlie   35      Chicago     Doctor\n",
      "3   4    Diana   28      Houston     Lawyer\n",
      "4   5     Eric   40       Dallas     Writer\n"
     ]
    }
   ],
   "source": [
    "import pandas as pd\n",
    "\n",
    "# Load the CSV file into a DataFrame\n",
    "df = pd.read_csv(r'C:\\Users\\pavan\\Downloads\\data of csv.csv')\n",
    "\n",
    "# Display the first few rows of the DataFrame\n",
    "print(df.head())\n"
   ]
  },
  {
   "cell_type": "code",
   "execution_count": 3,
   "id": "7cfe2e2d-4c59-4b20-bdbc-5f0fab49bf97",
   "metadata": {},
   "outputs": [],
   "source": [
    "import google.generativeai as gemini\n",
    "\n",
    "# Set your Gemini API key\n",
    "gemini.configure(api_key=\"Your gemini api key\")\n",
    "# Load the Gemini model\n",
    "model = gemini.GenerativeModel('gemini-1.5-flash')\n"
   ]
  },
  {
   "cell_type": "code",
   "execution_count": 4,
   "id": "df5ad08d-94aa-4a0b-84d3-8b7eb3240bca",
   "metadata": {},
   "outputs": [
    {
     "name": "stdout",
     "output_type": "stream",
     "text": [
      "Answer: The age of pavan is **23**. \n",
      "\n"
     ]
    }
   ],
   "source": [
    "def answer_question_with_gemini(question, df):\n",
    "    # Convert the DataFrame to a string to use as context\n",
    "    context = df.to_string(index=False)\n",
    "\n",
    "    # Generate a response using the Gemini model\n",
    "    response = model.generate_content(f'Answer the following question based on the data: {context}\\n\\nQuestion: {question}')\n",
    "    \n",
    "    # Return the response text\n",
    "    return response.text\n",
    "\n",
    "# Example question\n",
    "question = \"What is the age of pavan?\"\n",
    "\n",
    "# Get the answer\n",
    "answer = answer_question_with_gemini(question, df)\n",
    "print(f\"Answer: {answer}\")\n"
   ]
  },
  {
   "cell_type": "code",
   "execution_count": null,
   "id": "a863f748-0ff9-422b-a1ef-87fb3eb3a633",
   "metadata": {},
   "outputs": [],
   "source": []
  }
 ],
 "metadata": {
  "kernelspec": {
   "display_name": "Python 3 (ipykernel)",
   "language": "python",
   "name": "python3"
  },
  "language_info": {
   "codemirror_mode": {
    "name": "ipython",
    "version": 3
   },
   "file_extension": ".py",
   "mimetype": "text/x-python",
   "name": "python",
   "nbconvert_exporter": "python",
   "pygments_lexer": "ipython3",
   "version": "3.9.18"
  }
 },
 "nbformat": 4,
 "nbformat_minor": 5
}
